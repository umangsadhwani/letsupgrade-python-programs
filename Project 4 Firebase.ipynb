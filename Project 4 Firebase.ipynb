{
 "cells": [
  {
   "cell_type": "code",
   "execution_count": 1,
   "metadata": {},
   "outputs": [
    {
     "name": "stdout",
     "output_type": "stream",
     "text": [
      "Requirement already satisfied: firebase_admin in c:\\users\\umang sadhwani\\anaconda3\\lib\\site-packages (4.5.0)\n",
      "Requirement already satisfied: google-cloud-firestore>=1.4.0; platform_python_implementation != \"PyPy\" in c:\\users\\umang sadhwani\\anaconda3\\lib\\site-packages (from firebase_admin) (2.0.2)\n",
      "Requirement already satisfied: google-api-python-client>=1.7.8 in c:\\users\\umang sadhwani\\anaconda3\\lib\\site-packages (from firebase_admin) (1.12.8)\n",
      "Requirement already satisfied: cachecontrol>=0.12.6 in c:\\users\\umang sadhwani\\anaconda3\\lib\\site-packages (from firebase_admin) (0.12.6)\n",
      "Requirement already satisfied: google-cloud-storage>=1.18.0 in c:\\users\\umang sadhwani\\anaconda3\\lib\\site-packages (from firebase_admin) (1.35.0)\n",
      "Requirement already satisfied: google-api-core[grpc]<2.0.0dev,>=1.14.0; platform_python_implementation != \"PyPy\" in c:\\users\\umang sadhwani\\anaconda3\\lib\\site-packages (from firebase_admin) (1.24.1)\n",
      "Requirement already satisfied: pytz in c:\\users\\umang sadhwani\\anaconda3\\lib\\site-packages (from google-cloud-firestore>=1.4.0; platform_python_implementation != \"PyPy\"->firebase_admin) (2020.1)\n",
      "Requirement already satisfied: proto-plus>=1.3.0 in c:\\users\\umang sadhwani\\anaconda3\\lib\\site-packages (from google-cloud-firestore>=1.4.0; platform_python_implementation != \"PyPy\"->firebase_admin) (1.13.0)\n",
      "Requirement already satisfied: google-cloud-core<2.0dev,>=1.4.1 in c:\\users\\umang sadhwani\\anaconda3\\lib\\site-packages (from google-cloud-firestore>=1.4.0; platform_python_implementation != \"PyPy\"->firebase_admin) (1.5.0)\n",
      "Requirement already satisfied: httplib2<1dev,>=0.15.0 in c:\\users\\umang sadhwani\\anaconda3\\lib\\site-packages (from google-api-python-client>=1.7.8->firebase_admin) (0.18.1)\n",
      "Requirement already satisfied: google-auth-httplib2>=0.0.3 in c:\\users\\umang sadhwani\\anaconda3\\lib\\site-packages (from google-api-python-client>=1.7.8->firebase_admin) (0.0.4)\n",
      "Requirement already satisfied: six<2dev,>=1.13.0 in c:\\users\\umang sadhwani\\anaconda3\\lib\\site-packages (from google-api-python-client>=1.7.8->firebase_admin) (1.15.0)\n",
      "Requirement already satisfied: google-auth>=1.16.0 in c:\\users\\umang sadhwani\\anaconda3\\lib\\site-packages (from google-api-python-client>=1.7.8->firebase_admin) (1.24.0)\n",
      "Requirement already satisfied: uritemplate<4dev,>=3.0.0 in c:\\users\\umang sadhwani\\anaconda3\\lib\\site-packages (from google-api-python-client>=1.7.8->firebase_admin) (3.0.1)\n",
      "Requirement already satisfied: msgpack>=0.5.2 in c:\\users\\umang sadhwani\\anaconda3\\lib\\site-packages (from cachecontrol>=0.12.6->firebase_admin) (1.0.0)\n",
      "Requirement already satisfied: requests in c:\\users\\umang sadhwani\\anaconda3\\lib\\site-packages (from cachecontrol>=0.12.6->firebase_admin) (2.24.0)\n",
      "Requirement already satisfied: google-resumable-media<2.0dev,>=1.2.0 in c:\\users\\umang sadhwani\\anaconda3\\lib\\site-packages (from google-cloud-storage>=1.18.0->firebase_admin) (1.2.0)\n",
      "Requirement already satisfied: setuptools>=34.0.0 in c:\\users\\umang sadhwani\\anaconda3\\lib\\site-packages (from google-api-core[grpc]<2.0.0dev,>=1.14.0; platform_python_implementation != \"PyPy\"->firebase_admin) (50.3.1.post20201107)\n",
      "Requirement already satisfied: googleapis-common-protos<2.0dev,>=1.6.0 in c:\\users\\umang sadhwani\\anaconda3\\lib\\site-packages (from google-api-core[grpc]<2.0.0dev,>=1.14.0; platform_python_implementation != \"PyPy\"->firebase_admin) (1.52.0)\n",
      "Requirement already satisfied: protobuf>=3.12.0 in c:\\users\\umang sadhwani\\anaconda3\\lib\\site-packages (from google-api-core[grpc]<2.0.0dev,>=1.14.0; platform_python_implementation != \"PyPy\"->firebase_admin) (3.14.0)\n",
      "Requirement already satisfied: grpcio<2.0dev,>=1.29.0; extra == \"grpc\" in c:\\users\\umang sadhwani\\anaconda3\\lib\\site-packages (from google-api-core[grpc]<2.0.0dev,>=1.14.0; platform_python_implementation != \"PyPy\"->firebase_admin) (1.34.0)\n",
      "Requirement already satisfied: cachetools<5.0,>=2.0.0 in c:\\users\\umang sadhwani\\anaconda3\\lib\\site-packages (from google-auth>=1.16.0->google-api-python-client>=1.7.8->firebase_admin) (4.2.0)\n",
      "Requirement already satisfied: rsa<5,>=3.1.4; python_version >= \"3.6\" in c:\\users\\umang sadhwani\\anaconda3\\lib\\site-packages (from google-auth>=1.16.0->google-api-python-client>=1.7.8->firebase_admin) (4.6)\n",
      "Requirement already satisfied: pyasn1-modules>=0.2.1 in c:\\users\\umang sadhwani\\anaconda3\\lib\\site-packages (from google-auth>=1.16.0->google-api-python-client>=1.7.8->firebase_admin) (0.2.8)\n",
      "Requirement already satisfied: chardet<4,>=3.0.2 in c:\\users\\umang sadhwani\\anaconda3\\lib\\site-packages (from requests->cachecontrol>=0.12.6->firebase_admin) (3.0.4)\n",
      "Requirement already satisfied: idna<3,>=2.5 in c:\\users\\umang sadhwani\\anaconda3\\lib\\site-packages (from requests->cachecontrol>=0.12.6->firebase_admin) (2.10)\n",
      "Requirement already satisfied: certifi>=2017.4.17 in c:\\users\\umang sadhwani\\anaconda3\\lib\\site-packages (from requests->cachecontrol>=0.12.6->firebase_admin) (2020.6.20)\n",
      "Requirement already satisfied: urllib3!=1.25.0,!=1.25.1,<1.26,>=1.21.1 in c:\\users\\umang sadhwani\\anaconda3\\lib\\site-packages (from requests->cachecontrol>=0.12.6->firebase_admin) (1.25.11)\n",
      "Requirement already satisfied: google-crc32c<2.0dev,>=1.0; python_version >= \"3.5\" in c:\\users\\umang sadhwani\\anaconda3\\lib\\site-packages (from google-resumable-media<2.0dev,>=1.2.0->google-cloud-storage>=1.18.0->firebase_admin) (1.1.0)\n",
      "Requirement already satisfied: pyasn1>=0.1.3 in c:\\users\\umang sadhwani\\anaconda3\\lib\\site-packages (from rsa<5,>=3.1.4; python_version >= \"3.6\"->google-auth>=1.16.0->google-api-python-client>=1.7.8->firebase_admin) (0.4.8)\n"
     ]
    }
   ],
   "source": [
    "!pip install firebase_admin"
   ]
  },
  {
   "cell_type": "code",
   "execution_count": 2,
   "metadata": {},
   "outputs": [],
   "source": [
    "import firebase_admin"
   ]
  },
  {
   "cell_type": "code",
   "execution_count": 3,
   "metadata": {},
   "outputs": [],
   "source": [
    "from firebase_admin import credentials\n",
    "from firebase_admin import firestore"
   ]
  },
  {
   "cell_type": "code",
   "execution_count": 5,
   "metadata": {},
   "outputs": [
    {
     "data": {
      "text/plain": [
       "<firebase_admin.App at 0x24bff3ac8e0>"
      ]
     },
     "execution_count": 5,
     "metadata": {},
     "output_type": "execute_result"
    }
   ],
   "source": [
    "cred = credentials.Certificate(\"python-project-lu-firebase-adminsdk-us3c4-e02e8ea0f0.json\")\n",
    "firebase_admin.initialize_app(cred)"
   ]
  },
  {
   "cell_type": "code",
   "execution_count": 6,
   "metadata": {},
   "outputs": [],
   "source": [
    "db = firestore.client()"
   ]
  },
  {
   "cell_type": "code",
   "execution_count": 7,
   "metadata": {},
   "outputs": [
    {
     "data": {
      "text/plain": [
       "update_time {\n",
       "  seconds: 1608398785\n",
       "  nanos: 409092000\n",
       "}"
      ]
     },
     "execution_count": 7,
     "metadata": {},
     "output_type": "execute_result"
    }
   ],
   "source": [
    "doc_ref = db.collection(u'users').document(u'abc')\n",
    "\n",
    "doc_ref.set({\n",
    "    u'first': u'Faiza',\n",
    "    u'last': u'Gokak',\n",
    "    u'born': 1997\n",
    "})"
   ]
  },
  {
   "cell_type": "code",
   "execution_count": 8,
   "metadata": {},
   "outputs": [],
   "source": [
    "def enterDataInDB():\n",
    "    doc_ref = db.collection(u'LetsUpgradeUsers').document()\n",
    "    \n",
    "    name = input(\"Enter Name - \")\n",
    "    lastName = input(\"Enter Last Name - \")\n",
    "    age = int(input(\"Enter Age - \"))\n",
    "    \n",
    "    dit = {}\n",
    "    dit[\"firstName\"] = name\n",
    "    dit[\"lastName\"] = lastName\n",
    "    dit[\"age\"] = age\n",
    "    \n",
    "    doc_ref.set(dit)\n",
    "    "
   ]
  },
  {
   "cell_type": "code",
   "execution_count": 10,
   "metadata": {},
   "outputs": [
    {
     "name": "stdout",
     "output_type": "stream",
     "text": [
      "Enter Name - umang\n",
      "Enter Last Name - sadhwani\n",
      "Enter Age - 19\n"
     ]
    }
   ],
   "source": [
    "enterDataInDB()"
   ]
  },
  {
   "cell_type": "code",
   "execution_count": 11,
   "metadata": {},
   "outputs": [
    {
     "name": "stdout",
     "output_type": "stream",
     "text": [
      "Enter Name - vandana \n",
      "Enter Last Name - sadhwani\n",
      "Enter Age - 27\n"
     ]
    }
   ],
   "source": [
    "enterDataInDB()"
   ]
  },
  {
   "cell_type": "code",
   "execution_count": 12,
   "metadata": {},
   "outputs": [
    {
     "name": "stdout",
     "output_type": "stream",
     "text": [
      "Enter Name - divya\n",
      "Enter Last Name - sadhwani\n",
      "Enter Age - 23\n"
     ]
    }
   ],
   "source": [
    "enterDataInDB()"
   ]
  },
  {
   "cell_type": "code",
   "execution_count": 13,
   "metadata": {},
   "outputs": [
    {
     "name": "stdout",
     "output_type": "stream",
     "text": [
      "Enter Name - ayushi\n",
      "Enter Last Name - shakya\n",
      "Enter Age - 19\n"
     ]
    }
   ],
   "source": [
    "enterDataInDB()"
   ]
  },
  {
   "cell_type": "code",
   "execution_count": 14,
   "metadata": {},
   "outputs": [
    {
     "name": "stdout",
     "output_type": "stream",
     "text": [
      "Enter Name - shubhanshu\n",
      "Enter Last Name - usrete\n",
      "Enter Age - 26\n"
     ]
    }
   ],
   "source": [
    "enterDataInDB()"
   ]
  },
  {
   "cell_type": "code",
   "execution_count": 15,
   "metadata": {},
   "outputs": [
    {
     "name": "stdout",
     "output_type": "stream",
     "text": [
      "Enter Name - Arthraj\n",
      "Enter Last Name - Rathore\n",
      "Enter Age - 19\n"
     ]
    }
   ],
   "source": [
    "enterDataInDB()"
   ]
  },
  {
   "cell_type": "code",
   "execution_count": 16,
   "metadata": {},
   "outputs": [
    {
     "name": "stdout",
     "output_type": "stream",
     "text": [
      "Enter Name - Rajkumar \n",
      "Enter Last Name - Sadhwani\n",
      "Enter Age - 57\n"
     ]
    }
   ],
   "source": [
    "enterDataInDB()"
   ]
  },
  {
   "cell_type": "code",
   "execution_count": 20,
   "metadata": {},
   "outputs": [
    {
     "name": "stdout",
     "output_type": "stream",
     "text": [
      "ID -  1zLRAdioPAdsIzmk34vj\n",
      "First Name -  umang\n",
      "Last Name -  sadhwani\n",
      "Age -  19\n",
      "---------------\n",
      "---------------\n",
      "ID -  FANFSUqRaJ2M4V663jsE\n",
      "First Name -  vandana \n",
      "Last Name -  sadhwani\n",
      "Age -  27\n",
      "---------------\n",
      "---------------\n",
      "ID -  FbA5wAMjbzmeA1gwcteu\n",
      "First Name -  Rajkumar \n",
      "Last Name -  Sadhwani\n",
      "Age -  57\n",
      "---------------\n",
      "---------------\n",
      "ID -  LAwZ6BjJU0koAhfzUwfm\n",
      "First Name -  Arthraj\n",
      "Last Name -  Rathore\n",
      "Age -  19\n",
      "---------------\n",
      "---------------\n",
      "ID -  McvTeQ4bsqkSlRAFG17p\n",
      "First Name -  divya\n",
      "Last Name -  sadhwani\n",
      "Age -  23\n",
      "---------------\n",
      "---------------\n",
      "ID -  maHQHvJvZMrkQ4Tkb3IC\n",
      "First Name -  ayushi\n",
      "Last Name -  shakya\n",
      "Age -  19\n",
      "---------------\n",
      "---------------\n",
      "ID -  tldc85X0PygGOyFLLC6C\n",
      "First Name -  shubhanshu\n",
      "Last Name -  usrete\n",
      "Age -  26\n",
      "---------------\n",
      "---------------\n"
     ]
    }
   ],
   "source": [
    "docs = db.collection(u'LetsUpgradeUsers').stream()\n",
    "\n",
    "for doc in docs:\n",
    "#     print(f'{doc.id} => {doc.to_dict()}')\n",
    "    \n",
    "    print(\"ID - \", doc.id)\n",
    "    \n",
    "    print(\"First Name - \", doc.to_dict().get(\"firstName\"))\n",
    "    print(\"Last Name - \", doc.to_dict().get(\"lastName\"))\n",
    "    print(\"Age - \", doc.to_dict().get(\"age\") )\n",
    "    \n",
    "    print(\"---------------\")\n",
    "    print(\"---------------\")\n",
    "    "
   ]
  },
  {
   "cell_type": "code",
   "execution_count": 21,
   "metadata": {},
   "outputs": [],
   "source": [
    "def updateDatainFirebase(uid, updatedAge):\n",
    "    doc_ref = db.collection(u'LetsUpgradeUsers').document(uid)\n",
    "    \n",
    "    doc_ref.update({\"age\":updatedAge})"
   ]
  },
  {
   "cell_type": "code",
   "execution_count": 22,
   "metadata": {},
   "outputs": [],
   "source": [
    "updateDatainFirebase(\"tldc85X0PygGOyFLLC6C\",23)"
   ]
  },
  {
   "cell_type": "code",
   "execution_count": 23,
   "metadata": {},
   "outputs": [],
   "source": [
    "updateDatainFirebase(\"FANFSUqRaJ2M4V663jsE\",25)"
   ]
  },
  {
   "cell_type": "code",
   "execution_count": 24,
   "metadata": {},
   "outputs": [],
   "source": [
    "def deleteDataInFirebase(uid):\n",
    "    db.collection(u'LetsUpgradeUsers').document(uid).delete()"
   ]
  },
  {
   "cell_type": "code",
   "execution_count": 25,
   "metadata": {},
   "outputs": [],
   "source": [
    "deleteDataInFirebase(\"maHQHvJvZMrkQ4Tkb3IC\")"
   ]
  },
  {
   "cell_type": "code",
   "execution_count": 26,
   "metadata": {},
   "outputs": [],
   "source": [
    "deleteDataInFirebase(\"FANFSUqRaJ2M4V663jsE\")"
   ]
  },
  {
   "cell_type": "code",
   "execution_count": null,
   "metadata": {},
   "outputs": [],
   "source": []
  }
 ],
 "metadata": {
  "kernelspec": {
   "display_name": "Python 3",
   "language": "python",
   "name": "python3"
  },
  "language_info": {
   "codemirror_mode": {
    "name": "ipython",
    "version": 3
   },
   "file_extension": ".py",
   "mimetype": "text/x-python",
   "name": "python",
   "nbconvert_exporter": "python",
   "pygments_lexer": "ipython3",
   "version": "3.8.5"
  }
 },
 "nbformat": 4,
 "nbformat_minor": 4
}
