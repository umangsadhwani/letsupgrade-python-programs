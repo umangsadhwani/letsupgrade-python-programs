{
 "cells": [
  {
   "cell_type": "markdown",
   "metadata": {},
   "source": [
    "# Project -2 "
   ]
  },
  {
   "cell_type": "markdown",
   "metadata": {},
   "source": [
    "# Email Sending Project"
   ]
  },
  {
   "cell_type": "code",
   "execution_count": 3,
   "metadata": {},
   "outputs": [],
   "source": [
    "import emails"
   ]
  },
  {
   "cell_type": "code",
   "execution_count": 6,
   "metadata": {},
   "outputs": [],
   "source": [
    "def sendMail(email,name):\n",
    "    html_text='''<p><span style='background-color: rgb(235, 107, 86); font-family: \"Lucida Sans Unicode\", \"Lucida Grande\", sans-serif;'>Hello people</span><span style=\"font-family: 'Lucida Sans Unicode', 'Lucida Grande', sans-serif;\"> ,</span></p>\n",
    "                 <p><span style=\"font-family: 'Lucida Sans Unicode', 'Lucida Grande', sans-serif;\">How are you all , I am <span style=\"background-color: rgb(255, 255, 255);\">Umang Sadhwani</span> .</span></p>\n",
    "                 <p><span style=\"font-family: 'Lucida Sans Unicode', 'Lucida Grande', sans-serif;\">&nbsp; </span></p>'''\n",
    "    \n",
    "    message=emails.html(html=html_text,\n",
    "                          subject=\"hey \"+name+\" ,you have a mail from LetsUpgrade \",\n",
    "                          mail_from=('Umang Sadhwani', 'umang@xyz.com'))\n",
    "    mail_via_python = message.send(to=email, smtp={'host':'smtp.gmail.com', 'timeout': 5 , 'port':587\n",
    "                                                     , 'user' : 'umang02sadhwani@gmail.com',\n",
    "                                                    'password' : 'Umang@123', 'tls':True})\n",
    "    return mail_via_python.status_code"
   ]
  },
  {
   "cell_type": "code",
   "execution_count": 7,
   "metadata": {},
   "outputs": [
    {
     "name": "stdout",
     "output_type": "stream",
     "text": [
      "enter the email to which you want to send the message : ciyif60604@econeom.com\n",
      "enter the name of the person : Temporary Mail\n"
     ]
    },
    {
     "data": {
      "text/plain": [
       "250"
      ]
     },
     "execution_count": 7,
     "metadata": {},
     "output_type": "execute_result"
    }
   ],
   "source": [
    "Email = input(\"enter the email to which you want to send the message : \")\n",
    "Name = input(\"enter the name of the person : \")\n",
    "sendMail(Email,Name)"
   ]
  },
  {
   "cell_type": "code",
   "execution_count": null,
   "metadata": {},
   "outputs": [],
   "source": []
  }
 ],
 "metadata": {
  "kernelspec": {
   "display_name": "Python 3",
   "language": "python",
   "name": "python3"
  },
  "language_info": {
   "codemirror_mode": {
    "name": "ipython",
    "version": 3
   },
   "file_extension": ".py",
   "mimetype": "text/x-python",
   "name": "python",
   "nbconvert_exporter": "python",
   "pygments_lexer": "ipython3",
   "version": "3.8.5"
  }
 },
 "nbformat": 4,
 "nbformat_minor": 4
}
